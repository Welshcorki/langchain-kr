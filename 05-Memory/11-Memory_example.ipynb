{
 "cells": [
  {
   "cell_type": "markdown",
   "metadata": {},
   "source": [
    "# 실습 과제\n",
    "\n"
   ]
  },
  {
   "cell_type": "code",
   "execution_count": 11,
   "metadata": {},
   "outputs": [
    {
     "data": {
      "text/plain": [
       "True"
      ]
     },
     "execution_count": 11,
     "metadata": {},
     "output_type": "execute_result"
    }
   ],
   "source": [
    "# API KEY를 환경변수로 관리하기 위한 설정 파일\n",
    "from dotenv import load_dotenv\n",
    "\n",
    "# API KEY 정보로드\n",
    "load_dotenv()"
   ]
  },
  {
   "cell_type": "markdown",
   "metadata": {},
   "source": [
    "### ConversationBufferWindowMemory"
   ]
  },
  {
   "cell_type": "code",
   "execution_count": 8,
   "metadata": {},
   "outputs": [],
   "source": [
    "from langchain.memory import ConversationBufferWindowMemory\n",
    "\n",
    "memory = ConversationBufferWindowMemory(k=5, return_messages=True)  # 최근 대화 5개만 저장\n",
    "\n",
    "memory.save_context(\n",
    "    inputs={\n",
    "        \"human\": \"안녕하세요, 컴퓨터를 하나 사려고 하는데 추천 좀 해주세요.\"\n",
    "    },\n",
    "    outputs={\n",
    "        \"ai\": \"안녕하세요! 어떤 용도로 사용할 컴퓨터를 찾고 계신가요? 게임용, 사무용, 혹은 다른 용도인가요?\"\n",
    "    },\n",
    ")\n",
    "memory.save_context(\n",
    "    inputs={\"human\": \"주로 게임이랑 영상 편집을 하려고 합니다.\"},\n",
    "    outputs={\n",
    "        \"ai\": \"감사합니다. 어떤 사양의 컴퓨터를 원하시나요? 예를 들어, CPU, GPU, RAM 등의 사양을 말씀해 주시면 더 정확한 추천이 가능합니다. 예산은 어느 정도 생각하고 계세요?\"\n",
    "    },\n",
    ")\n",
    "memory.save_context(\n",
    "    inputs={\"human\": \"사음... 200만 원 내외로 생각하고 있어요.\"},\n",
    "    outputs={\n",
    "        \"ai\": \"감사합니다. 예산에 맞는 컴퓨터를 추천해 드리겠습니다. 잠시만 기다려 주세요.\"\n",
    "    },\n",
    ")\n",
    "memory.save_context(\n",
    "    inputs={\"human\": \"그래픽카드는 어떤 모델이 좋을까요? RTX 4070 정도면 충분할까요?\"},\n",
    "    outputs={\n",
    "        \"ai\": \"네, RTX 4070은 게임과 영상 편집 모두에 적합한 좋은 선택입니다. 해상도는 주로 어떤 것을 쓰시나요?\"\n",
    "    },\n",
    ")\n",
    "memory.save_context(\n",
    "    inputs={\"human\": \"QHD(2560x1440) 모니터를 사용하고 있어요.\"},\n",
    "    outputs={\n",
    "        \"ai\": \"QHD 환경에서 게임을 즐기시려면 RTX 4070 Super나 4070 Ti 모델도 고려해 볼 수 있습니다.\"\n",
    "    },\n",
    ")\n",
    "memory.save_context(\n",
    "    inputs={\"human\": \"CPU는 인텔 i7-14700K와 라이젠 7 7800X3D 중에 고민하고 있어요.\"},\n",
    "    outputs={\n",
    "        \"ai\": \"영상 편집 작업 비중이 높으시다면 인텔 i7-14700K가 멀티태스킹 성능 면에서 조금 더 유리할 수 있습니다.\"\n",
    "    },\n",
    ")\n",
    "memory.save_context(\n",
    "    inputs={\"human\": \"그럼 i7-14700K로 결정할게요. 메모리는 32GB로 충분하겠죠?\"},\n",
    "    outputs={\n",
    "        \"ai\": \"네, 영상 편집까지 생각하면 32GB가 안정적입니다.\"\n",
    "    },\n",
    ")\n",
    "memory.save_context(\n",
    "    inputs={\"human\": \"SSD는 1TB로 할까요? 아니면 2TB가 좋을까요?\"},\n",
    "    outputs={\n",
    "        \"ai\": \"게임과 영상 소스 파일들을 저장하려면 2TB를 추천드립니다. 용량이 부족하면 나중에 번거로울 수 있어요.\"\n",
    "    },\n",
    ")\n",
    "memory.save_context(\n",
    "    inputs={\"human\": \"알겠습니다. 파워서플라이는 몇 W짜리가 필요할까요?\"},\n",
    "    outputs={\n",
    "        \"ai\": \"현재 구성하시는 사양으로는 850W 정도면 충분하고 안정적입니다.\"\n",
    "    },\n",
    ")\n",
    "memory.save_context(\n",
    "    inputs={\"human\": \"그럼 최종적으로 사양을 정리해 주시겠어요?\"},\n",
    "    outputs={\n",
    "        \"ai\": \"네, 정리해 드리겠습니다. (이후 사양 정리 내용이 이어짐)\"\n",
    "    },\n",
    ")\n"
   ]
  },
  {
   "cell_type": "markdown",
   "metadata": {},
   "source": [
    "대화기록을 확인해 보면 **최근 5개** 의 메시지만 반환하는 것을 확인할 수 있습니다.\n"
   ]
  },
  {
   "cell_type": "code",
   "execution_count": 9,
   "metadata": {},
   "outputs": [
    {
     "data": {
      "text/plain": [
       "[HumanMessage(content='CPU는 인텔 i7-14700K와 라이젠 7 7800X3D 중에 고민하고 있어요.', additional_kwargs={}, response_metadata={}),\n",
       " AIMessage(content='영상 편집 작업 비중이 높으시다면 인텔 i7-14700K가 멀티태스킹 성능 면에서 조금 더 유리할 수 있습니다.', additional_kwargs={}, response_metadata={}),\n",
       " HumanMessage(content='그럼 i7-14700K로 결정할게요. 메모리는 32GB로 충분하겠죠?', additional_kwargs={}, response_metadata={}),\n",
       " AIMessage(content='네, 영상 편집까지 생각하면 32GB가 안정적입니다.', additional_kwargs={}, response_metadata={}),\n",
       " HumanMessage(content='SSD는 1TB로 할까요? 아니면 2TB가 좋을까요?', additional_kwargs={}, response_metadata={}),\n",
       " AIMessage(content='게임과 영상 소스 파일들을 저장하려면 2TB를 추천드립니다. 용량이 부족하면 나중에 번거로울 수 있어요.', additional_kwargs={}, response_metadata={}),\n",
       " HumanMessage(content='알겠습니다. 파워서플라이는 몇 W짜리가 필요할까요?', additional_kwargs={}, response_metadata={}),\n",
       " AIMessage(content='현재 구성하시는 사양으로는 850W 정도면 충분하고 안정적입니다.', additional_kwargs={}, response_metadata={}),\n",
       " HumanMessage(content='그럼 최종적으로 사양을 정리해 주시겠어요?', additional_kwargs={}, response_metadata={}),\n",
       " AIMessage(content='네, 정리해 드리겠습니다. (이후 사양 정리 내용이 이어짐)', additional_kwargs={}, response_metadata={})]"
      ]
     },
     "execution_count": 9,
     "metadata": {},
     "output_type": "execute_result"
    }
   ],
   "source": [
    "# 대화 기록을 확인합니다.\n",
    "memory.load_memory_variables({})[\"history\"]"
   ]
  },
  {
   "cell_type": "markdown",
   "metadata": {},
   "source": [
    "### ConversationSummaryMemory"
   ]
  },
  {
   "cell_type": "code",
   "execution_count": 18,
   "metadata": {},
   "outputs": [],
   "source": [
    "from langchain.memory import ConversationSummaryMemory\n",
    "from langchain_openai import ChatOpenAI\n",
    "\n",
    "memory = ConversationSummaryMemory(\n",
    "    llm=ChatOpenAI(model=\"gpt-4.1-mini\", temperature=0),\n",
    "    return_messages=True            # 메시지를 객체로 반환하도록 설정합니다.\n",
    ")\n",
    "\n",
    "memory.save_context(\n",
    "    inputs={\n",
    "        \"human\": \"안녕하세요, 컴퓨터를 하나 사려고 하는데 추천 좀 해주세요.\"\n",
    "    },\n",
    "    outputs={\n",
    "        \"ai\": \"안녕하세요! 어떤 용도로 사용할 컴퓨터를 찾고 계신가요? 게임용, 사무용, 혹은 다른 용도인가요?\"\n",
    "    },\n",
    ")\n",
    "memory.save_context(\n",
    "    inputs={\"human\": \"주로 게임이랑 영상 편집을 하려고 합니다.\"},\n",
    "    outputs={\n",
    "        \"ai\": \"감사합니다. 어떤 사양의 컴퓨터를 원하시나요? 예를 들어, CPU, GPU, RAM 등의 사양을 말씀해 주시면 더 정확한 추천이 가능합니다. 예산은 어느 정도 생각하고 계세요?\"\n",
    "    },\n",
    ")\n",
    "memory.save_context(\n",
    "    inputs={\"human\": \"사음... 200만 원 내외로 생각하고 있어요.\"},\n",
    "    outputs={\n",
    "        \"ai\": \"감사합니다. 예산에 맞는 컴퓨터를 추천해 드리겠습니다. 잠시만 기다려 주세요.\"\n",
    "    },\n",
    ")\n",
    "memory.save_context(\n",
    "    inputs={\"human\": \"그래픽카드는 어떤 모델이 좋을까요? RTX 4070 정도면 충분할까요?\"},\n",
    "    outputs={\n",
    "        \"ai\": \"네, RTX 4070은 게임과 영상 편집 모두에 적합한 좋은 선택입니다. 해상도는 주로 어떤 것을 쓰시나요?\"\n",
    "    },\n",
    ")\n",
    "memory.save_context(\n",
    "    inputs={\"human\": \"QHD(2560x1440) 모니터를 사용하고 있어요.\"},\n",
    "    outputs={\n",
    "        \"ai\": \"QHD 환경에서 게임을 즐기시려면 RTX 4070 Super나 4070 Ti 모델도 고려해 볼 수 있습니다.\"\n",
    "    },\n",
    ")\n",
    "memory.save_context(\n",
    "    inputs={\"human\": \"CPU는 인텔 i7-14700K와 라이젠 7 7800X3D 중에 고민하고 있어요.\"},\n",
    "    outputs={\n",
    "        \"ai\": \"영상 편집 작업 비중이 높으시다면 인텔 i7-14700K가 멀티태스킹 성능 면에서 조금 더 유리할 수 있습니다.\"\n",
    "    },\n",
    ")\n",
    "memory.save_context(\n",
    "    inputs={\"human\": \"그럼 i7-14700K로 결정할게요. 메모리는 32GB로 충분하겠죠?\"},\n",
    "    outputs={\n",
    "        \"ai\": \"네, 영상 편집까지 생각하면 32GB가 안정적입니다.\"\n",
    "    },\n",
    ")\n",
    "memory.save_context(\n",
    "    inputs={\"human\": \"SSD는 1TB로 할까요? 아니면 2TB가 좋을까요?\"},\n",
    "    outputs={\n",
    "        \"ai\": \"게임과 영상 소스 파일들을 저장하려면 2TB를 추천드립니다. 용량이 부족하면 나중에 번거로울 수 있어요.\"\n",
    "    },\n",
    ")\n",
    "memory.save_context(\n",
    "    inputs={\"human\": \"알겠습니다. 파워서플라이는 몇 W짜리가 필요할까요?\"},\n",
    "    outputs={\n",
    "        \"ai\": \"현재 구성하시는 사양으로는 850W 정도면 충분하고 안정적입니다.\"\n",
    "    },\n",
    ")\n",
    "memory.save_context(\n",
    "    inputs={\"human\": \"그럼 최종적으로 사양을 정리해 주시겠어요?\"},\n",
    "    outputs={\n",
    "        \"ai\": \"네, 정리해 드리겠습니다. (이후 사양 정리 내용이 이어짐)\"\n",
    "    },\n",
    ")\n"
   ]
  },
  {
   "cell_type": "code",
   "execution_count": 19,
   "metadata": {},
   "outputs": [
    {
     "data": {
      "text/plain": [
       "[SystemMessage(content='The human greets the AI and asks for a computer recommendation. The AI responds by asking what the intended use of the computer is, such as for gaming, office work, or other purposes. The human says they mainly want to use it for gaming and video editing. The AI then asks what specifications they want, such as CPU, GPU, and RAM, and inquires about their budget to provide a more accurate recommendation. The human states their budget is around 2 million Korean won. The AI acknowledges the budget and says it will recommend a computer within that range, asking the human to wait briefly. The human asks if an RTX 4070 graphics card would be sufficient. The AI confirms that the RTX 4070 is a good choice for both gaming and video editing and asks what resolution the human primarily uses. The human replies that they use a QHD (2560x1440) monitor. The AI suggests that for gaming at QHD resolution, the human could also consider RTX 4070 Super or 4070 Ti models. The human is deciding between the Intel i7-14700K and Ryzen 7 7800X3D CPUs. The AI advises that if video editing is a significant part of the workload, the Intel i7-14700K may be slightly better for multitasking performance. The human decides to go with the i7-14700K and asks if 32GB of memory will be sufficient. The AI confirms that 32GB of RAM is stable and adequate for video editing. The human then asks whether to choose a 1TB or 2TB SSD. The AI recommends a 2TB SSD to store games and video source files, noting that insufficient storage could cause inconvenience later. The human then asks about the required wattage for the power supply. The AI replies that about 850W would be sufficient and stable for the current configuration. The human then asks the AI to finalize and summarize the recommended specifications. The AI agrees and proceeds to provide a detailed summary of the final build.', additional_kwargs={}, response_metadata={})]"
      ]
     },
     "execution_count": 19,
     "metadata": {},
     "output_type": "execute_result"
    }
   ],
   "source": [
    "# 대화 기록을 확인합니다.\n",
    "memory.load_memory_variables({})[\"history\"]"
   ]
  },
  {
   "cell_type": "markdown",
   "metadata": {},
   "source": [
    "### ConversationSummaryBufferMemory"
   ]
  },
  {
   "cell_type": "code",
   "execution_count": null,
   "metadata": {},
   "outputs": [
    {
     "name": "stderr",
     "output_type": "stream",
     "text": [
      "C:\\Users\\SBA\\AppData\\Local\\Temp\\ipykernel_21684\\2155089812.py:6: LangChainDeprecationWarning: Please see the migration guide at: https://python.langchain.com/docs/versions/migrating_memory/\n",
      "  memory = ConversationSummaryBufferMemory(\n"
     ]
    }
   ],
   "source": [
    "from langchain_openai import ChatOpenAI\n",
    "from langchain.memory import ConversationSummaryBufferMemory\n",
    "\n",
    "llm = ChatOpenAI()\n",
    "\n",
    "memory = ConversationSummaryBufferMemory(\n",
    "    llm=llm,\n",
    "    max_token_limit=300,  # 요약의 기준이 되는 토큰 길이를 설정합니다.\n",
    "                          # 토큰의 갯수가 300 제한하고 초과하면 llm에 요청해서 히스토리를 요약합니다.\n",
    "\n",
    "    return_messages=True,\n",
    ")"
   ]
  },
  {
   "cell_type": "code",
   "execution_count": 21,
   "metadata": {},
   "outputs": [],
   "source": [
    "memory.save_context(\n",
    "    inputs={\n",
    "        \"human\": \"안녕하세요, 컴퓨터를 하나 사려고 하는데 추천 좀 해주세요.\"\n",
    "    },\n",
    "    outputs={\n",
    "        \"ai\": \"안녕하세요! 어떤 용도로 사용할 컴퓨터를 찾고 계신가요? 게임용, 사무용, 혹은 다른 용도인가요?\"\n",
    "    },\n",
    ")\n",
    "memory.save_context(\n",
    "    inputs={\"human\": \"주로 게임이랑 영상 편집을 하려고 합니다.\"},\n",
    "    outputs={\n",
    "        \"ai\": \"감사합니다. 어떤 사양의 컴퓨터를 원하시나요? 예를 들어, CPU, GPU, RAM 등의 사양을 말씀해 주시면 더 정확한 추천이 가능합니다. 예산은 어느 정도 생각하고 계세요?\"\n",
    "    },\n",
    ")\n",
    "memory.save_context(\n",
    "    inputs={\"human\": \"사음... 200만 원 내외로 생각하고 있어요.\"},\n",
    "    outputs={\n",
    "        \"ai\": \"감사합니다. 예산에 맞는 컴퓨터를 추천해 드리겠습니다. 잠시만 기다려 주세요.\"\n",
    "    },\n",
    ")\n",
    "memory.save_context(\n",
    "    inputs={\"human\": \"그래픽카드는 어떤 모델이 좋을까요? RTX 4070 정도면 충분할까요?\"},\n",
    "    outputs={\n",
    "        \"ai\": \"네, RTX 4070은 게임과 영상 편집 모두에 적합한 좋은 선택입니다. 해상도는 주로 어떤 것을 쓰시나요?\"\n",
    "    },\n",
    ")\n",
    "memory.save_context(\n",
    "    inputs={\"human\": \"QHD(2560x1440) 모니터를 사용하고 있어요.\"},\n",
    "    outputs={\n",
    "        \"ai\": \"QHD 환경에서 게임을 즐기시려면 RTX 4070 Super나 4070 Ti 모델도 고려해 볼 수 있습니다.\"\n",
    "    },\n",
    ")\n",
    "memory.save_context(\n",
    "    inputs={\"human\": \"CPU는 인텔 i7-14700K와 라이젠 7 7800X3D 중에 고민하고 있어요.\"},\n",
    "    outputs={\n",
    "        \"ai\": \"영상 편집 작업 비중이 높으시다면 인텔 i7-14700K가 멀티태스킹 성능 면에서 조금 더 유리할 수 있습니다.\"\n",
    "    },\n",
    ")\n",
    "memory.save_context(\n",
    "    inputs={\"human\": \"그럼 i7-14700K로 결정할게요. 메모리는 32GB로 충분하겠죠?\"},\n",
    "    outputs={\n",
    "        \"ai\": \"네, 영상 편집까지 생각하면 32GB가 안정적입니다.\"\n",
    "    },\n",
    ")\n",
    "memory.save_context(\n",
    "    inputs={\"human\": \"SSD는 1TB로 할까요? 아니면 2TB가 좋을까요?\"},\n",
    "    outputs={\n",
    "        \"ai\": \"게임과 영상 소스 파일들을 저장하려면 2TB를 추천드립니다. 용량이 부족하면 나중에 번거로울 수 있어요.\"\n",
    "    },\n",
    ")\n",
    "memory.save_context(\n",
    "    inputs={\"human\": \"알겠습니다. 파워서플라이는 몇 W짜리가 필요할까요?\"},\n",
    "    outputs={\n",
    "        \"ai\": \"현재 구성하시는 사양으로는 850W 정도면 충분하고 안정적입니다.\"\n",
    "    },\n",
    ")\n",
    "memory.save_context(\n",
    "    inputs={\"human\": \"그럼 최종적으로 사양을 정리해 주시겠어요?\"},\n",
    "    outputs={\n",
    "        \"ai\": \"네, 정리해 드리겠습니다. (이후 사양 정리 내용이 이어짐)\"\n",
    "    },\n",
    ")"
   ]
  },
  {
   "cell_type": "code",
   "execution_count": 22,
   "metadata": {},
   "outputs": [
    {
     "data": {
      "text/plain": [
       "[SystemMessage(content=\"The human expresses interest in purchasing a computer and asks for recommendations. The AI inquires about the computer's intended use, budget constraints, and confirms that the RTX 4070 is a good choice for gaming and video editing at QHD resolution. The human is considering between the Intel i7-14700K and Ryzen 7 7800X3D CPUs. The AI suggests that if video editing is a priority, the Intel i7-14700K may offer better multitasking performance.\", additional_kwargs={}, response_metadata={}),\n",
       " HumanMessage(content='그럼 i7-14700K로 결정할게요. 메모리는 32GB로 충분하겠죠?', additional_kwargs={}, response_metadata={}),\n",
       " AIMessage(content='네, 영상 편집까지 생각하면 32GB가 안정적입니다.', additional_kwargs={}, response_metadata={}),\n",
       " HumanMessage(content='SSD는 1TB로 할까요? 아니면 2TB가 좋을까요?', additional_kwargs={}, response_metadata={}),\n",
       " AIMessage(content='게임과 영상 소스 파일들을 저장하려면 2TB를 추천드립니다. 용량이 부족하면 나중에 번거로울 수 있어요.', additional_kwargs={}, response_metadata={}),\n",
       " HumanMessage(content='알겠습니다. 파워서플라이는 몇 W짜리가 필요할까요?', additional_kwargs={}, response_metadata={}),\n",
       " AIMessage(content='현재 구성하시는 사양으로는 850W 정도면 충분하고 안정적입니다.', additional_kwargs={}, response_metadata={}),\n",
       " HumanMessage(content='그럼 최종적으로 사양을 정리해 주시겠어요?', additional_kwargs={}, response_metadata={}),\n",
       " AIMessage(content='네, 정리해 드리겠습니다. (이후 사양 정리 내용이 이어짐)', additional_kwargs={}, response_metadata={})]"
      ]
     },
     "execution_count": 22,
     "metadata": {},
     "output_type": "execute_result"
    }
   ],
   "source": [
    "# 대화 기록을 확인합니다.\n",
    "memory.load_memory_variables({})[\"history\"]"
   ]
  },
  {
   "cell_type": "markdown",
   "metadata": {},
   "source": [
    "### 메모리 유형 간 차이점\n",
    "\n",
    "ConversationBufferWindowMemory\n",
    "- 지정한 갯수만큼의 가장 최근 대화를 원본 텍스트로 저장하지만, 이전의 대화 내용은 사라짐.\n",
    "- LLM 모델을 따로 지정하지 않아도 구현이 가능하므로 비용이 발생하지 않음\n",
    "\n",
    "ConversationSummaryMemory\n",
    "- 매 대화 턴마다 전체 대화 기록을 llm에 전달하여 요약본으로 만들고, 이 요약본을 다음 대화의 컨텍스트로 사용함.\n",
    "- 새로운 대화가 기록될 때마다 이전 기록의 원본이 아닌 요약된 내용을 기준으로 새로운 대화를 합쳐서 재요약함.\n",
    "- 세부적인 내용은 요약하는 과정에서 사라질 수 있음.\n",
    "- LLM 모델을 사용하고, 매번 요약본을 생성해야 하므로 호출 횟수가 늘어나며, 호출시 비용이 발생할 수 있음.\n",
    "\n",
    "ConversationSummaryBufferMemory\n",
    "- 설정된 버퍼(k)만큼의 최근 대화는 원본으로 보관하고, 그보다 오래된 대화는 요약해서 기록함.\n",
    "- 대화가 길어져 버퍼를 넘어서면, 가장 오래된 대화가 요약본으로 추가되는 방식\n",
    "- 최근 대화의 세부 정보와 전체 대화의 맥락을 모두 알 수 있으므로 긴 대화에서 메모리를 효율적으로 관리함.\n",
    "- 위의 두 방식보다 복잡하며, 마찬가지로 LLM 호출 비용이 발생."
   ]
  },
  {
   "cell_type": "markdown",
   "metadata": {},
   "source": []
  }
 ],
 "metadata": {
  "kernelspec": {
   "display_name": "langchain-kr-Us6BDj1P-py3.11",
   "language": "python",
   "name": "python3"
  },
  "language_info": {
   "codemirror_mode": {
    "name": "ipython",
    "version": 3
   },
   "file_extension": ".py",
   "mimetype": "text/x-python",
   "name": "python",
   "nbconvert_exporter": "python",
   "pygments_lexer": "ipython3",
   "version": "3.11.9"
  }
 },
 "nbformat": 4,
 "nbformat_minor": 2
}
