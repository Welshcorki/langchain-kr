{
 "cells": [
  {
   "cell_type": "markdown",
   "id": "ec6c23fd",
   "metadata": {},
   "source": [
    "### CharacterTextSplitter\n",
    "1. CharacterTextSplitter 특성을 정의하고, CharacterTextSplitter 객체를 생성\n",
    "2. create_document()함수로 문서와 연결+나누기(Documents로 변환해서 나누기)\n",
    "3. split_text()함수를 사용해서 문서를 나눈다.(일반 텍스트를 나누기)"
   ]
  },
  {
   "cell_type": "code",
   "execution_count": 30,
   "id": "198537a9",
   "metadata": {},
   "outputs": [],
   "source": [
    "# 0. txt 파일 읽어오기\n",
    "with open(\"./data/FerrisWheel.txt\", encoding=\"utf-8\") as f:\n",
    "    file = f.read()"
   ]
  },
  {
   "cell_type": "code",
   "execution_count": 42,
   "id": "6f8af91b",
   "metadata": {},
   "outputs": [
    {
     "name": "stdout",
     "output_type": "stream",
     "text": [
      "하루가\n",
      "너무 빠른 기분이 드는 날\n",
      "걸음을 돌려 (oh)\n",
      "천천히 내게 와줄래\n",
      "\n",
      "바쁜 마음은\n",
      "여기 잠시 멈추어 두고서\n",
      "도시 위에 뜬 (oh)\n",
      "우리만의 섬으로 가자\n",
      "\n",
      "낮아지는 저녁 하늘 아래로\n",
      "오렌지빛 커튼이 또 내리고\n",
      "참 길었던 이 하루도 잘 견뎌줘\n",
      "고마워\n",
      "\n",
      "언제나 네 곁에 있어\n",
      "어떤 날이 와도\n",
      "작아지는 맘을 껴안아\n",
      "세상 가장 높은 곳에서\n",
      "\n",
      "이제 감은 눈을 떠\n"
     ]
    }
   ],
   "source": [
    "print(file[:200])"
   ]
  },
  {
   "cell_type": "code",
   "execution_count": 43,
   "id": "6625a32a",
   "metadata": {},
   "outputs": [],
   "source": [
    "# 1. CharacterTextSplitter 특성을 정의하고, CharacterTextSplitter 객체를 생성\n",
    "from langchain.text_splitter import CharacterTextSplitter\n",
    "\n",
    "# 객체 생성\n",
    "text_splitter = CharacterTextSplitter(\n",
    "    separator = \"\\n\\n\",  # 문장을 나누는 구분자 설정\n",
    "    chunk_size = 100,   # 각 청크의 최대 길이 설정\n",
    "    chunk_overlap = 0,  # 청크 간의 겹치는 부분 설정\n",
    "    length_function = len  # 길이를 계산하는 함수 설정\n",
    ")"
   ]
  },
  {
   "cell_type": "code",
   "execution_count": 44,
   "id": "616c537b",
   "metadata": {},
   "outputs": [],
   "source": [
    "# 2. create_document()함수로 문서와 연결+splitting\n",
    "#    file은 일반 문서이므로, document로 변환\n",
    "texts = text_splitter.create_documents([file])"
   ]
  },
  {
   "cell_type": "code",
   "execution_count": 45,
   "id": "2bf24b72",
   "metadata": {},
   "outputs": [
    {
     "data": {
      "text/plain": [
       "Document(metadata={}, page_content='하루가\\n너무 빠른 기분이 드는 날\\n걸음을 돌려 (oh)\\n천천히 내게 와줄래\\n\\n바쁜 마음은\\n여기 잠시 멈추어 두고서\\n도시 위에 뜬 (oh)\\n우리만의 섬으로 가자')"
      ]
     },
     "execution_count": 45,
     "metadata": {},
     "output_type": "execute_result"
    }
   ],
   "source": [
    "texts[0]"
   ]
  },
  {
   "cell_type": "code",
   "execution_count": 46,
   "id": "ca4173e5",
   "metadata": {},
   "outputs": [
    {
     "data": {
      "text/plain": [
       "'하루가\\n너무 빠른 기분이 드는 날\\n걸음을 돌려 (oh)\\n천천히 내게 와줄래\\n\\n바쁜 마음은\\n여기 잠시 멈추어 두고서\\n도시 위에 뜬 (oh)\\n우리만의 섬으로 가자'"
      ]
     },
     "execution_count": 46,
     "metadata": {},
     "output_type": "execute_result"
    }
   ],
   "source": [
    "texts[0].page_content"
   ]
  },
  {
   "cell_type": "code",
   "execution_count": 47,
   "id": "a2a43c69",
   "metadata": {},
   "outputs": [
    {
     "name": "stdout",
     "output_type": "stream",
     "text": [
      "하루가\n",
      "너무 빠른 기분이 드는 날\n",
      "걸음을 돌려 (oh)\n",
      "천천히 내게 와줄래\n",
      "\n",
      "바쁜 마음은\n",
      "여기 잠시 멈추어 두고서\n",
      "도시 위에 뜬 (oh)\n",
      "우리만의 섬으로 가자\n"
     ]
    }
   ],
   "source": [
    "# 줄바꿈 적용해서 출력\n",
    "print(texts[0].page_content)"
   ]
  },
  {
   "cell_type": "code",
   "execution_count": null,
   "id": "facb5a88",
   "metadata": {},
   "outputs": [
    {
     "name": "stdout",
     "output_type": "stream",
     "text": [
      "하루가\n",
      "너무 빠른 기분이 드는 날\n",
      "걸음을 돌려 (oh)\n",
      "천천히 내게 와줄래\n",
      "\n",
      "바쁜 마음은\n",
      "여기 잠시 멈추어 두고서\n",
      "도시 위에 뜬 (oh)\n",
      "우리만의 섬으로 가자\n"
     ]
    }
   ],
   "source": [
    "fileName = \"./data/FerrisWheel.txt\"\n",
    "# 파일 불러오기\n",
    "with open(fileName, \"r\", encoding=\"utf-8\") as f:\n",
    "    file = f.read()\n",
    "texts1 = text_splitter.create_documents([file]) # 텍스트 문서(file)을 여러개의 문서로 분할\n",
    "print(texts1[0].page_content)"
   ]
  },
  {
   "cell_type": "code",
   "execution_count": 49,
   "id": "84bda364",
   "metadata": {},
   "outputs": [],
   "source": [
    "# 3. split_text()함수를 사용해서 문서를 나눈다.\n",
    "# txt 파일을 읽었을때, create_documents()함수를 사용하지 않고,\n",
    "# split_text()함수를 사용하여 문서를 나눈다.\n",
    "myText = text_splitter.split_text(file)"
   ]
  },
  {
   "cell_type": "code",
   "execution_count": 57,
   "id": "d4513902",
   "metadata": {},
   "outputs": [
    {
     "data": {
      "text/plain": [
       "'하루가\\n너무 빠른 기분이 드는 날\\n걸음을 돌려 (oh)\\n천천히 내게 와줄래\\n\\n바쁜 마음은\\n여기 잠시 멈추어 두고서\\n도시 위에 뜬 (oh)\\n우리만의 섬으로 가자'"
      ]
     },
     "execution_count": 57,
     "metadata": {},
     "output_type": "execute_result"
    }
   ],
   "source": [
    "myText[0]"
   ]
  },
  {
   "cell_type": "code",
   "execution_count": null,
   "id": "b35ec58e",
   "metadata": {},
   "outputs": [],
   "source": []
  }
 ],
 "metadata": {
  "kernelspec": {
   "display_name": "langchain-kr-Us6BDj1P-py3.11",
   "language": "python",
   "name": "python3"
  },
  "language_info": {
   "codemirror_mode": {
    "name": "ipython",
    "version": 3
   },
   "file_extension": ".py",
   "mimetype": "text/x-python",
   "name": "python",
   "nbconvert_exporter": "python",
   "pygments_lexer": "ipython3",
   "version": "3.11.9"
  }
 },
 "nbformat": 4,
 "nbformat_minor": 5
}
