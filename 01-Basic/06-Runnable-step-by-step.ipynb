{
 "cells": [
  {
   "cell_type": "markdown",
   "id": "8af0f6cc",
   "metadata": {},
   "source": [
    "### RunnablePassthrough()"
   ]
  },
  {
   "cell_type": "code",
   "execution_count": 1,
   "id": "82c26c67",
   "metadata": {},
   "outputs": [
    {
     "name": "stdout",
     "output_type": "stream",
     "text": [
      "일본에서 여행하기 좋은 추천 여행지 3곳을 소개해 드릴게요:\n",
      "\n",
      "1. 도쿄 (Tokyo)  \n",
      "도쿄는 일본의 수도로 현대적인 도시와 전통이 조화를 이루는 곳입니다. 시부야의 번화한 거리, 신주쿠의 야경, 하라주쿠의 패션 거리, 아사쿠사의 센소지 사원 등 다양한 명소를 즐기실 수 있어요. 또한, 디즈니랜드 도쿄와 오다이바 같은 엔터테인먼트 시설도 인기입니다.\n",
      "\n",
      "2. 교토 (Kyoto)  \n",
      "전통과 역사가 깃든 도시 교토는 일본의 옛 수도로, 아름다운 겐로쿠엔 정원, 기온 거리, 금각사와 은각사 등 많은 사원과 찻집이 있습니다. 평온한 분위기 속에서 일본 전통 문화를 깊이 체험할 수 있는 곳이에요.\n",
      "\n",
      "3. 오사카 (Osaka)  \n",
      "맛집과 활기찬 거리로 유명한 오사카는 독특한 도시 분위기를 느낄 수 있습니다. 도톤보리 지역의 길거리 음식, 오사카성, 유니버설 스튜디오 재팬 등 즐길 거리가 풍부합니다. 특히 미식가 여행지로도 유명하니 다양한 일본 요리를 맛보기에 딱 좋아요.\n",
      "\n",
      "이 세 곳은 각각의 매력이 넘쳐서 일본 여행을 더욱 특별하게 만들어 줄 거예요!\n"
     ]
    }
   ],
   "source": [
    "# 필요한 라이브러리 임포트\n",
    "from langchain_openai import ChatOpenAI\n",
    "from langchain_core.prompts import ChatPromptTemplate\n",
    "from langchain_core.runnables import RunnablePassthrough\n",
    "from langchain_core.output_parsers import StrOutputParser\n",
    "\n",
    "# 모델 초기화\n",
    "model = ChatOpenAI(model=\"gpt-4.1-nano\")\n",
    "prompt = ChatPromptTemplate.from_template(\n",
    "    \"{country}의 여행 할 만한 여행지를 3곳만 추천해줘.\"\n",
    ")\n",
    "chain1 = {\"country\": RunnablePassthrough()} | prompt | model | StrOutputParser()\n",
    "\n",
    "print(chain1.invoke({\"topic\": \"일본\"}))"
   ]
  },
  {
   "cell_type": "code",
   "execution_count": 2,
   "id": "69347e83",
   "metadata": {},
   "outputs": [
    {
     "name": "stdout",
     "output_type": "stream",
     "text": [
      "김포공항에서 일본으로 직항 항공편을 이용할 수 있는 대표적인 공항 세 곳을 추천드립니다:\n",
      "\n",
      "1. 도쿄 하네다 공항 (Tokyo Haneda Airport, HND)\n",
      "2. 오사카 간사이 공항 (Osaka Kansai International Airport, KIX)\n",
      "3. 나리타 공항 (Tokyo Narita Airport, NRT)\n",
      "\n",
      "이 공항들은 김포공항과 직항으로 연결되어 있어 편리하게 일본 내 주요 도시로 이동하실 수 있습니다. 비행 일정과 항공사에 따라 다소 차이가 있을 수 있으니, 예약 전에 최신 정보를 확인하시기 바랍니다.\n"
     ]
    }
   ],
   "source": [
    "prompt = ChatPromptTemplate.from_template(\n",
    "    \"김포공항에서 {country}을 직항으로 갈 수 있는 공항을 3개만 추천해줘\"\n",
    ")\n",
    "chain2 = {\"country\": RunnablePassthrough()} | prompt | model | StrOutputParser()\n",
    "print(chain2.invoke({\"country\": \"일본\"}))"
   ]
  },
  {
   "cell_type": "markdown",
   "id": "78ef1ce0",
   "metadata": {},
   "source": [
    "### RunnablePassthrough() + RunnableParallel()"
   ]
  },
  {
   "cell_type": "code",
   "execution_count": 3,
   "id": "8387a68a",
   "metadata": {},
   "outputs": [
    {
     "data": {
      "text/plain": [
       "{\n",
       "  travel_info: {\n",
       "                 country: RunnablePassthrough()\n",
       "               }\n",
       "               | ChatPromptTemplate(input_variables=['country'], input_types={}, partial_variables={}, messages=[HumanMessagePromptTemplate(prompt=PromptTemplate(input_variables=['country'], input_types={}, partial_variables={}, template='{country}의 여행할 만한 여행지를 3곳만 추천하고, 각 장소의 특징을 한 줄로 설명해줘.'), additional_kwargs={})])\n",
       "               | ChatOpenAI(client=<openai.resources.chat.completions.completions.Completions object at 0x000001E8A3EE35D0>, async_client=<openai.resources.chat.completions.completions.AsyncCompletions object at 0x000001E8CA34DC90>, root_client=<openai.OpenAI object at 0x000001E8A0CDAA50>, root_async_client=<openai.AsyncOpenAI object at 0x000001E8CA40A710>, model_name='gpt-4o-mini', model_kwargs={}, openai_api_key=SecretStr('**********'))\n",
       "               | StrOutputParser(),\n",
       "  flight_info: {\n",
       "                 country: RunnablePassthrough()\n",
       "               }\n",
       "               | ChatPromptTemplate(input_variables=['country'], input_types={}, partial_variables={}, messages=[HumanMessagePromptTemplate(prompt=PromptTemplate(input_variables=['country'], input_types={}, partial_variables={}, template='대한민국 김포공항에서 {country}(으)로 갈 수 있는 직항 공항을 3개만 알려줘.'), additional_kwargs={})])\n",
       "               | ChatOpenAI(client=<openai.resources.chat.completions.completions.Completions object at 0x000001E8A3EE35D0>, async_client=<openai.resources.chat.completions.completions.AsyncCompletions object at 0x000001E8CA34DC90>, root_client=<openai.OpenAI object at 0x000001E8A0CDAA50>, root_async_client=<openai.AsyncOpenAI object at 0x000001E8CA40A710>, model_name='gpt-4o-mini', model_kwargs={}, openai_api_key=SecretStr('**********'))\n",
       "               | StrOutputParser()\n",
       "}"
      ]
     },
     "execution_count": 3,
     "metadata": {},
     "output_type": "execute_result"
    }
   ],
   "source": [
    "# 필요한 라이브러리 임포트\n",
    "from langchain_openai import ChatOpenAI\n",
    "from langchain_core.prompts import ChatPromptTemplate\n",
    "from langchain_core.runnables import RunnablePassthrough, RunnableParallel\n",
    "from langchain_core.output_parsers import StrOutputParser\n",
    "import json\n",
    "\n",
    "# 모델 초기화 (gpt-4o-mini는 빠르고 저렴하여 테스트에 용이합니다)\n",
    "model = ChatOpenAI(model=\"gpt-4o-mini\")\n",
    "\n",
    "# 1. 여행지 추천 체인\n",
    "prompt1 = ChatPromptTemplate.from_template(\n",
    "    \"{country}의 여행할 만한 여행지를 3곳만 추천하고, 각 장소의 특징을 한 줄로 설명해줘.\"\n",
    ")\n",
    "chain1 = (\n",
    "    # 입력이 문자열일 때, {\"country\": 입력값} 형태로 변환해 프롬프트에 전달\n",
    "    {\"country\": RunnablePassthrough()}\n",
    "    | prompt1\n",
    "    | model\n",
    "    | StrOutputParser()\n",
    ")\n",
    "\n",
    "# 2. 직항 공항 추천 체인\n",
    "prompt2 = ChatPromptTemplate.from_template(\n",
    "    \"대한민국 김포공항에서 {country}(으)로 갈 수 있는 직항 공항을 3개만 알려줘.\"\n",
    ")\n",
    "chain2 = {\"country\": RunnablePassthrough()} | prompt2 | model | StrOutputParser()\n",
    "\n",
    "# 3. RunnableParallel을 사용하여 두 체인 통합\n",
    "# 'travel_info'와 'flight_info'라는 키로 각 체인의 결과를 받음\n",
    "combined_chain = RunnableParallel(travel_info=chain1, flight_info=chain2)\n",
    "\n",
    "combined_chain"
   ]
  },
  {
   "cell_type": "code",
   "execution_count": 4,
   "id": "0372e205",
   "metadata": {},
   "outputs": [
    {
     "name": "stdout",
     "output_type": "stream",
     "text": [
      "1. **도쿄**: 현대적인 도시 풍경과 전통이 어우러진 곳으로, 쇼핑, 음식, 문화 체험이 풍부하다.\n",
      "\n",
      "2. **교토**: 역사적인 사원과 아름다운 정원이 가득한 도시로, 일본의 전통 문화와 유산을 경험할 수 있다.\n",
      "\n",
      "3. **홋카이도**: 자연의 아름다움이 돋보이는 지역으로, 스키와 온천, 신선한 해산물을 즐길 수 있는 여행지이다.\n",
      "======================================================================\n",
      "대한민국 김포공항에서 직항으로 갈 수 있는 일본의 공항은 다음 세 곳입니다:\n",
      "\n",
      "1. 도쿄 하네다 공항 (Haneda Airport, HND)\n",
      "2. 오사카 간사이 공항 (Kansai International Airport, KIX)\n",
      "3. 후쿠오카 공항 (Fukuoka Airport, FUK)\n",
      "\n",
      "이 외에도 다른 일본 도시로 가는 직항 노선이 있을 수 있으니, 항공사와 스케줄을 확인하는 것이 좋습니다.\n"
     ]
    }
   ],
   "source": [
    "# 4. 통합된 체인 실행\n",
    "# \"일본\"이라는 하나의 입력값이 chain1과 chain2에 동시에 전달됨\n",
    "result = combined_chain.invoke(\"일본\")\n",
    "\n",
    "print(result[\"travel_info\"])  # 여행지 추천 결과\n",
    "print(\"=\" * 70)\n",
    "print(result[\"flight_info\"])  # 직항 공항 추천 결과"
   ]
  },
  {
   "cell_type": "markdown",
   "id": "62ade0c3",
   "metadata": {},
   "source": [
    "### RunnableLambda"
   ]
  },
  {
   "cell_type": "code",
   "execution_count": 5,
   "id": "acc8074c",
   "metadata": {},
   "outputs": [
    {
     "name": "stdout",
     "output_type": "stream",
     "text": [
      "🌍 랜덤 선택된 나라: 일본\n",
      "\n",
      "--- 최종 결과 ---\n",
      "{\n",
      "  \"travel_info\": \"1. **도쿄**: 현대와 전통이 조화를 이루는 대도시로, 다양한 문화와 맛있는 음식, 쇼핑의 중심지입니다.\\n\\n2. **교토**: 일본의 전통적인 아름다움을 간직한 도시로, 역사적인 사찰과 정원이 가득하여 고풍스러운 매력을 제공합니다.\\n\\n3. **홋카이도**: 눈부신 자연경관과 다양한 야외 활동을 즐길 수 있는 지역으로, 특히 겨울에는 스키와 온천이 유명합니다.\",\n",
      "  \"flight_info\": \"대한민국 김포공항에서 일본으로 갈 수 있는 직항 공항은 다음과 같습니다:\\n\\n1. 도쿄 하네다 공항 (Tokyo Haneda Airport)\\n2. 오사카 간사이 공항 (Kansai International Airport)\\n3. 후쿠오카 공항 (Fukuoka Airport)\\n\\n이 외에도 일본의 여러 도시로 직항 노선이 있을 수 있으니, 항공편 정보 확인을 권장합니다.\"\n",
      "}\n"
     ]
    }
   ],
   "source": [
    "# 필요한 라이브러리 임포트\n",
    "from langchain_openai import ChatOpenAI\n",
    "from langchain_core.prompts import ChatPromptTemplate\n",
    "from langchain_core.runnables import (\n",
    "    RunnablePassthrough,\n",
    "    RunnableParallel,\n",
    "    RunnableLambda,\n",
    ")\n",
    "from langchain_core.output_parsers import StrOutputParser\n",
    "import json\n",
    "import random  # random 라이브러리 추가\n",
    "\n",
    "# --- (이전 코드와 동일한 부분) ---\n",
    "\n",
    "# 모델 초기화 (gpt-4o-mini는 빠르고 저렴하여 테스트에 용이합니다)\n",
    "model = ChatOpenAI(model=\"gpt-4o-mini\")\n",
    "\n",
    "# 1. 여행지 추천 체인\n",
    "prompt1 = ChatPromptTemplate.from_template(\n",
    "    \"{country}의 여행할 만한 여행지를 3곳만 추천하고, 각 장소의 특징을 한 줄로 설명해줘.\"\n",
    ")\n",
    "chain1 = {\"country\": RunnablePassthrough()} | prompt1 | model | StrOutputParser()\n",
    "\n",
    "# 2. 직항 공항 추천 체인\n",
    "prompt2 = ChatPromptTemplate.from_template(\n",
    "    \"대한민국 김포공항에서 {country}(으)로 갈 수 있는 직항 공항을 3개만 알려줘.\"\n",
    ")\n",
    "chain2 = {\"country\": RunnablePassthrough()} | prompt2 | model | StrOutputParser()\n",
    "\n",
    "# 3. RunnableParallel을 사용하여 두 체인 통합\n",
    "combined_chain = RunnableParallel(travel_info=chain1, flight_info=chain2)\n",
    "\n",
    "\n",
    "# 4. 국가를 랜덤으로 선택하는 함수 정의\n",
    "def choice_country(_):  # LangChain 체인과 연결하기 위해 입력 인자를 받도록 정의합니다.\n",
    "    \"\"\"주어진 리스트에서 국가를 하나 랜덤으로 선택합니다.\"\"\"\n",
    "    countries = [\"미국\", \"영국\", \"프랑스\", \"일본\", \"스위스\"]\n",
    "    selected_country = random.choice(countries)\n",
    "\n",
    "    # 어떤 나라가 선택되었는지 확인하기 위해 출력\n",
    "    print(f\"🌍 랜덤 선택된 나라: {selected_country}\")\n",
    "\n",
    "    return selected_country # 랜덤으로 선택된 나라를 출력\n",
    "\n",
    "\n",
    "# 5. RunnableLambda로 함수를 체인에 통합하고 최종 체인 완성\n",
    "# [나라 선택 함수] -> [기존의 병렬 체인] 순서로 실행\n",
    "final_chain = RunnableLambda(choice_country) | combined_chain\n",
    "\n",
    "# 6. 최종 체인 실행\n",
    "# 입력값이 필요 없으므로 None을 전달 (또는 비워둠)\n",
    "result = final_chain.invoke(None)\n",
    "\n",
    "# 7. 결과 출력\n",
    "print(\"\\n--- 최종 결과 ---\")\n",
    "print(json.dumps(result, indent=2, ensure_ascii=False))"
   ]
  },
  {
   "cell_type": "markdown",
   "id": "ed77e663",
   "metadata": {},
   "source": [
    "### itemgetter()\n",
    " - 일반 파이썬 함수임"
   ]
  },
  {
   "cell_type": "code",
   "execution_count": 6,
   "id": "dc11c70b",
   "metadata": {},
   "outputs": [
    {
     "name": "stdout",
     "output_type": "stream",
     "text": [
      "\n",
      "딕셔너리 나이 정렬: [{'name': '김유신', 'age': 22, 'score': 76}, {'name': '홍길동', 'age': 25, 'score': 88}, {'name': '이순신', 'age': 32, 'score': 95}]\n",
      "가져온 항목: ('홍길동', 88)\n",
      "가져온 항목: ('이순신', 95)\n",
      "가져온 항목: ('김유신', 76)\n"
     ]
    }
   ],
   "source": [
    "from operator import itemgetter\n",
    "\n",
    "students_dict = [\n",
    "    {\"name\": \"홍길동\", \"age\": 25, \"score\": 88},\n",
    "    {\"name\": \"이순신\", \"age\": 32, \"score\": 95},\n",
    "    {\"name\": \"김유신\", \"age\": 22, \"score\": 76},\n",
    "]\n",
    "\n",
    "# 딕셔너리의 'age' 키로 정렬\n",
    "sorted_by_age = sorted(students_dict, key=itemgetter(\"age\"))\n",
    "print(f\"\\n딕셔너리 나이 정렬: {sorted_by_age}\")\n",
    "\n",
    "# 여러 항목(이름과 점수)을 한 번에 가져오기\n",
    "get_name_and_score = itemgetter(\"name\", \"score\")\n",
    "for student in students_dict:\n",
    "    print(f\"가져온 항목: {get_name_and_score(student)}\")"
   ]
  },
  {
   "cell_type": "code",
   "execution_count": null,
   "id": "73a942f3",
   "metadata": {},
   "outputs": [],
   "source": []
  }
 ],
 "metadata": {
  "kernelspec": {
   "display_name": "langchain-kr-Us6BDj1P-py3.11",
   "language": "python",
   "name": "python3"
  },
  "language_info": {
   "codemirror_mode": {
    "name": "ipython",
    "version": 3
   },
   "file_extension": ".py",
   "mimetype": "text/x-python",
   "name": "python",
   "nbconvert_exporter": "python",
   "pygments_lexer": "ipython3",
   "version": "3.11.9"
  }
 },
 "nbformat": 4,
 "nbformat_minor": 5
}
