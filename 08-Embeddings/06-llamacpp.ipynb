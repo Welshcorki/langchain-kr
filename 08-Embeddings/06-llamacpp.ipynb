{
 "cells": [
  {
   "cell_type": "markdown",
   "id": "b5d2ee6f",
   "metadata": {},
   "source": [
    "# Llama-cpp(C++)\n",
    "\n",
    "이 노트북은 LangChain 내에서 Llama-cpp 임베딩을 사용하는 방법에 대해 설명합니다.\n"
   ]
  },
  {
   "cell_type": "markdown",
   "id": "4b7ccff5",
   "metadata": {},
   "source": [
    "llama-cpp-python 패키지를 최신 버전으로 업그레이드하는 pip 명령어입니다.\n"
   ]
  },
  {
   "cell_type": "code",
   "execution_count": 1,
   "id": "601905ab",
   "metadata": {},
   "outputs": [
    {
     "data": {
      "text/plain": [
       "True"
      ]
     },
     "execution_count": 1,
     "metadata": {},
     "output_type": "execute_result"
    }
   ],
   "source": [
    "# API KEY를 환경변수로 관리하기 위한 설정 파일\n",
    "from dotenv import load_dotenv\n",
    "\n",
    "# API KEY 정보로드\n",
    "load_dotenv()"
   ]
  },
  {
   "cell_type": "code",
   "execution_count": 2,
   "id": "1da6f70b",
   "metadata": {},
   "outputs": [
    {
     "name": "stdout",
     "output_type": "stream",
     "text": [
      "LangSmith 추적을 시작합니다.\n",
      "[프로젝트명]\n",
      "CH08-Embeddings\n"
     ]
    }
   ],
   "source": [
    "# LangSmith 추적을 설정합니다. https://smith.langchain.com\n",
    "# !pip install langchain-teddynote\n",
    "from langchain_teddynote import logging\n",
    "\n",
    "# 프로젝트 이름을 입력합니다.\n",
    "logging.langsmith(\"CH08-Embeddings\")"
   ]
  },
  {
   "cell_type": "markdown",
   "id": "d2feb34a",
   "metadata": {},
   "source": [
    "Visual Studio Build Tools 설치:\n",
    "Visual Studio 다운로드 페이지로 이동하여 Visual Studio Build Tools를 다운로드하고 실행하세요.\n",
    "설치 관리자에서 'C++를 사용한 데스크톱 개발' 워크로드를 반드시 선택해야 해요.\n",
    "오른쪽 설치 세부 정보에서 **'MSVC v143 - VS 2022 C++ x64/x86 빌드 도구'**와 'Windows 11 SDK' 또는 **'Windows 10 SDK'**가 선택되어 있는지 확인하세요.\n",
    "설치를 완료하세요.\n",
    "환경 변수 설정 확인:\n",
    "Visual Studio Build Tools를 설치하면 필요한 컴파일러 경로가 자동으로 설정되는 경우가 많아요.\n",
    "만약 문제가 계속 발생한다면, **'x64 Native Tools Command Prompt for VS 2022'**를 실행하여 pip install 명령을 실행해 보세요. 이 프롬프트는 필요한 환경 변수를 자동으로 설정해 줘요.\n",
    "재시도:\n",
    "모든 설치와 설정이 끝난 후, 다시 pip install llama-cpp-python 명령을 실행하여 설치를 시도해 보세요.\n",
    "\n",
    "https://visualstudio.microsoft.com/ko/visual-cpp-build-tools/"
   ]
  },
  {
   "cell_type": "code",
   "execution_count": null,
   "id": "804bc0fb",
   "metadata": {},
   "outputs": [
    {
     "name": "stderr",
     "output_type": "stream",
     "text": [
      "  error: subprocess-exited-with-error\n",
      "  \n",
      "  × Building wheel for llama-cpp-python (pyproject.toml) did not run successfully.\n",
      "  │ exit code: 1\n",
      "  ╰─> [20 lines of output]\n",
      "      \u001b[32m*** \u001b[1mscikit-build-core 0.11.6\u001b[0m using \u001b[34mCMake 4.1.0\u001b[39m\u001b[0m \u001b[31m(wheel)\u001b[0m\n",
      "      \u001b[32m***\u001b[0m \u001b[1mConfiguring CMake...\u001b[0m\n",
      "      2025-08-27 14:23:34,764 - scikit_build_core - WARNING - Can't find a Python library, got libdir=None, ldlibrary=None, multiarch=None, masd=None\n",
      "      loading initial cache file C:\\Users\\SBA\\AppData\\Local\\Temp\\tmpgzn33jc6\\build\\CMakeInit.txt\n",
      "      -- Building for: NMake Makefiles\n",
      "      \u001b[31mCMake Error at CMakeLists.txt:3 (project):\n",
      "        Running\n",
      "      \n",
      "         'nmake' '-?'\n",
      "      \n",
      "        failed with:\n",
      "      \n",
      "         no such file or directory\n",
      "      \n",
      "      \u001b[0m\n",
      "      \u001b[0mCMake Error: CMAKE_C_COMPILER not set, after EnableLanguage\u001b[0m\n",
      "      \u001b[0mCMake Error: CMAKE_CXX_COMPILER not set, after EnableLanguage\u001b[0m\n",
      "      -- Configuring incomplete, errors occurred!\n",
      "      \u001b[31m\n",
      "      \u001b[1m***\u001b[0m \u001b[31mCMake configuration failed\u001b[0m\n",
      "      [end of output]\n",
      "  \n",
      "  note: This error originates from a subprocess, and is likely not a problem with pip.\n",
      "  ERROR: Failed building wheel for llama-cpp-python\n",
      "\n",
      "[notice] A new release of pip is available: 25.1.1 -> 25.2\n",
      "[notice] To update, run: python.exe -m pip install --upgrade pip\n",
      "ERROR: Failed to build installable wheels for some pyproject.toml based projects (llama-cpp-python)\n"
     ]
    }
   ],
   "source": [
    "# Llama-cpp 설치\n",
    "!pip install -qU llama-cpp-python\n",
    "\n",
    "# Visual Studio Build Tool 설치가 필요함."
   ]
  },
  {
   "cell_type": "code",
   "execution_count": 5,
   "id": "d6595ed1",
   "metadata": {},
   "outputs": [],
   "source": [
    "# !pip install llama-cpp-python --force-reinstall --no-cache-dir"
   ]
  },
  {
   "cell_type": "markdown",
   "id": "cf08367d",
   "metadata": {},
   "source": [
    "- `LlamaCppEmbeddings` 클래스를 `langchain_community.embeddings` 모듈에서 임포트합니다.\n",
    "\n",
    "`LlamaCppEmbeddings`는 LLaMA 모델을 사용하여 텍스트 임베딩을 생성하는 클래스입니다. 이 클래스는 LangChain 커뮤니티에서 제공하는 확장 기능 중 하나로, C++로 구현된 LLaMA 모델을 활용하여 빠르고 효율적인 임베딩 생성을 지원합니다.\n"
   ]
  },
  {
   "cell_type": "code",
   "execution_count": null,
   "id": "f274cbac",
   "metadata": {},
   "outputs": [],
   "source": [
    "from langchain_community.embeddings import LlamaCppEmbeddings"
   ]
  },
  {
   "cell_type": "markdown",
   "id": "7c48f9f4",
   "metadata": {},
   "source": [
    "- `LlamaCppEmbeddings` 클래스를 사용하여 임베딩 모델을 초기화합니다.\n",
    "- `model_path` 매개변수를 통해 사전 학습된 LLaMA 모델 파일(\"ggml-model-q4_0.bin\")의 경로를 지정합니다.\n"
   ]
  },
  {
   "cell_type": "code",
   "execution_count": null,
   "id": "5e814921",
   "metadata": {},
   "outputs": [],
   "source": [
    "# LlamaCpp 임베딩 모델을 초기화하고, 모델 경로를 지정합니다.\n",
    "llama = LlamaCppEmbeddings(model_path=\"/path/to/model/ggml-model-q4_0.bin\")"
   ]
  },
  {
   "cell_type": "markdown",
   "id": "fab3b136",
   "metadata": {},
   "source": [
    "- `text` 변수에 \"This is a test document.\"라는 문자열을 할당합니다.\n"
   ]
  },
  {
   "cell_type": "code",
   "execution_count": null,
   "id": "53970f96",
   "metadata": {},
   "outputs": [],
   "source": [
    "text = \"This is a test document.\"  # 테스트용 문서 텍스트를 정의합니다."
   ]
  },
  {
   "cell_type": "markdown",
   "id": "9a723236",
   "metadata": {},
   "source": [
    "`llama.embed_query(text)`는 입력된 텍스트를 임베딩 벡터로 변환하는 함수입니다.\n",
    "\n",
    "- `text` 매개변수로 전달된 텍스트를 임베딩 모델에 입력하여 벡터 표현을 생성합니다.\n",
    "- 생성된 임베딩 벡터는 `query_result` 변수에 저장됩니다.\n",
    "\n",
    "이 함수는 텍스트를 벡터 공간에 매핑하여 의미적 유사성을 계산하거나 검색에 활용할 수 있는 벡터 표현을 얻는 데 사용됩니다.\n"
   ]
  },
  {
   "cell_type": "code",
   "execution_count": null,
   "id": "1f02a046",
   "metadata": {},
   "outputs": [],
   "source": [
    "# 텍스트를 임베딩하여 쿼리 결과를 생성합니다.\n",
    "query_result = llama.embed_query(text)"
   ]
  },
  {
   "cell_type": "markdown",
   "id": "a9091dfb",
   "metadata": {},
   "source": [
    "`llama.embed_documents([text])` 함수를 호출하여 `text` 문서를 임베딩합니다.\n",
    "\n",
    "- `text` 문서를 리스트 형태로 `embed_documents` 함수에 전달합니다.\n",
    "- `llama` 객체의 `embed_documents` 함수는 문서를 벡터 표현으로 변환합니다.\n",
    "- 변환된 벡터 표현은 `doc_result` 변수에 저장됩니다.\n"
   ]
  },
  {
   "cell_type": "code",
   "execution_count": null,
   "id": "f8ae3468",
   "metadata": {},
   "outputs": [],
   "source": [
    "# 텍스트를 임베딩하여 문서 결과를 생성합니다.\n",
    "doc_result = llama.embed_documents([text])"
   ]
  }
 ],
 "metadata": {
  "kernelspec": {
   "display_name": "langchain-kr-Us6BDj1P-py3.11",
   "language": "python",
   "name": "python3"
  },
  "language_info": {
   "codemirror_mode": {
    "name": "ipython",
    "version": 3
   },
   "file_extension": ".py",
   "mimetype": "text/x-python",
   "name": "python",
   "nbconvert_exporter": "python",
   "pygments_lexer": "ipython3",
   "version": "3.11.9"
  }
 },
 "nbformat": 4,
 "nbformat_minor": 5
}
