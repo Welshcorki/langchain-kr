{
 "cells": [
  {
   "cell_type": "code",
   "execution_count": 2,
   "id": "b4ec6f3e",
   "metadata": {},
   "outputs": [
    {
     "data": {
      "text/plain": [
       "True"
      ]
     },
     "execution_count": 2,
     "metadata": {},
     "output_type": "execute_result"
    }
   ],
   "source": [
    "# API 키를 환경변수로 관리하기 위한 설정 파일\n",
    "from dotenv import load_dotenv\n",
    "\n",
    "# API 키 정보 로드\n",
    "load_dotenv()"
   ]
  },
  {
   "cell_type": "code",
   "execution_count": 3,
   "id": "1f134de1",
   "metadata": {},
   "outputs": [],
   "source": [
    "import os\n",
    "from langchain.docstore.document import Document\n",
    "from langchain.chains.query_constructor.base import (\n",
    "    AttributeInfo,\n",
    "    load_query_constructor_runnable,\n",
    ")\n",
    "from langchain.chains.query_constructor.ir import Comparator, Operator\n",
    "from langchain_community.vectorstores import Chroma\n",
    "from langchain_openai import OpenAIEmbeddings, ChatOpenAI\n",
    "from langchain.retrievers.self_query.base import SelfQueryRetriever"
   ]
  },
  {
   "cell_type": "code",
   "execution_count": 4,
   "id": "f952c3a8",
   "metadata": {},
   "outputs": [],
   "source": [
    "# 1. 문서 데이터 생성 (이전 답변에서 생성된 데이터)\n",
    "docs = [\n",
    "    Document(\n",
    "        page_content=\"초미세먼지를 99.9% 걸러내는 강력한 공기청정기로, 스마트 센서가 실시간으로 공기 질을 감지합니다.\",\n",
    "        metadata={\"year\": 2024, \"category\": \"일반가전\", \"user_rating\": 4.9},\n",
    "    ),\n",
    "    Document(\n",
    "        page_content=\"장애물 회피 기능이 뛰어난 로봇 청소기로, 한번 충전으로 넓은 공간을 깨끗하게 청소합니다.\",\n",
    "        metadata={\"year\": 2023, \"category\": \"일반가전\", \"user_rating\": 4.5},\n",
    "    ),\n",
    "    Document(\n",
    "        page_content=\"8K 화질을 지원하는 초슬림 디자인의 스마트 TV입니다. AI 사운드 최적화 기술로 몰입감을 극대화합니다.\",\n",
    "        metadata={\"year\": 2024, \"category\": \"일반가전\", \"user_rating\": 4.8},\n",
    "    ),\n",
    "    Document(\n",
    "        page_content=\"혁신적인 듀얼 카메라 시스템을 탑재한 최신 스마트폰입니다. 초고속 프로세서로 모든 앱을 부드럽게 실행합니다.\",\n",
    "        metadata={\"year\": 2024, \"category\": \"스마트폰\", \"user_rating\": 5.0},\n",
    "    ),\n",
    "    Document(\n",
    "        page_content=\"가성비가 뛰어난 보급형 스마트폰입니다. 5G를 지원하며, 대용량 배터리로 하루 종일 사용이 가능합니다.\",\n",
    "        metadata={\"year\": 2024, \"category\": \"스마트폰\", \"user_rating\": 4.6},\n",
    "    ),\n",
    "    Document(\n",
    "        page_content=\"접이식 디스플레이를 탑재해 휴대성과 활용성을 모두 잡은 폴더블 스마트폰입니다. 튼튼한 힌지로 내구성을 강화했습니다.\",\n",
    "        metadata={\"year\": 2023, \"category\": \"스마트폰\", \"user_rating\": 4.8},\n",
    "    ),\n",
    "    Document(\n",
    "        page_content=\"피부 속부터 차오르는 수분감을 선사하는 히알루론산 세럼입니다. 모든 피부 타입에 적합하며, 끈적임 없이 빠르게 흡수됩니다.\",\n",
    "        metadata={\"year\": 2024, \"category\": \"화장품\", \"user_rating\": 4.7},\n",
    "    ),\n",
    "    Document(\n",
    "        page_content=\"자외선 차단 효과와 미백 기능을 동시에 갖춘 선크림입니다. 민감한 피부에도 자극 없이 순하게 작용합니다.\",\n",
    "        metadata={\"year\": 2023, \"category\": \"화장품\", \"user_rating\": 4.9},\n",
    "    ),\n",
    "    Document(\n",
    "        page_content=\"강렬한 발색력을 자랑하는 매트 립스틱입니다. 입술에 부드럽게 밀착되어 오랜 시간 유지됩니다.\",\n",
    "        metadata={\"year\": 2024, \"category\": \"화장품\", \"user_rating\": 4.5},\n",
    "    ),\n",
    "    Document(\n",
    "        page_content=\"제로백 3초대의 강력한 성능을 자랑하는 순수 전기차입니다. 1회 충전으로 500km 이상 주행이 가능합니다.\",\n",
    "        metadata={\"year\": 2024, \"category\": \"자동차\", \"user_rating\": 4.9},\n",
    "    ),\n",
    "    Document(\n",
    "        page_content=\"패밀리 SUV의 정석으로 불리는 모델입니다. 넓은 실내 공간과 최첨단 안전 기능을 탑재했습니다.\",\n",
    "        metadata={\"year\": 2023, \"category\": \"자동차\", \"user_rating\": 4.8},\n",
    "    ),\n",
    "    Document(\n",
    "        page_content=\"세련된 디자인과 뛰어난 연비를 갖춘 하이브리드 세단입니다. 도심 주행에 최적화된 성능을 제공합니다.\",\n",
    "        metadata={\"year\": 2024, \"category\": \"자동차\", \"user_rating\": 4.7},\n",
    "    ),\n",
    "]"
   ]
  },
  {
   "cell_type": "code",
   "execution_count": 5,
   "id": "75533090",
   "metadata": {},
   "outputs": [
    {
     "name": "stderr",
     "output_type": "stream",
     "text": [
      "Failed to send telemetry event ClientStartEvent: capture() takes 1 positional argument but 3 were given\n",
      "Failed to send telemetry event ClientCreateCollectionEvent: capture() takes 1 positional argument but 3 were given\n"
     ]
    }
   ],
   "source": [
    "# 2. ChromaDB 벡터 스토어 생성\n",
    "embedding = OpenAIEmbeddings()\n",
    "vector_store = Chroma.from_documents(docs, embedding)\n",
    "\n",
    "# 3. SelfQueryRetriever를 위한 메타데이터 스키마 정의\n",
    "metadata_field_info = [\n",
    "    AttributeInfo(\n",
    "        name=\"category\",\n",
    "        description=\"제품의 종류. '일반가전', '스마트폰', '화장품', '자동차' 중 하나.\",\n",
    "        type=\"string\",\n",
    "    ),\n",
    "    AttributeInfo(\n",
    "        name=\"year\",\n",
    "        description=\"제품 출시 연도. 숫자 값.\",\n",
    "        type=\"integer\",\n",
    "    ),\n",
    "    AttributeInfo(\n",
    "        name=\"user_rating\",\n",
    "        description=\"사용자 평점. 1.0에서 5.0 사이의 숫자 값.\",\n",
    "        type=\"float\",\n",
    "    ),\n",
    "]"
   ]
  },
  {
   "cell_type": "code",
   "execution_count": null,
   "id": "195dbdc2",
   "metadata": {},
   "outputs": [],
   "source": [
    "# 4. SelfQueryRetriever 인스턴스 생성 (수정된 부분)\n",
    "document_content_description = \"다양한 제품에 대한 설명\"\n",
    "llm = ChatOpenAI(temperature=0)\n",
    "\n",
    "examples = [\n",
    "    (\n",
    "        \"2024년에 출시된 스마트폰에 대해 알려줘\",\n",
    "        {\n",
    "            \"query\": \"스마트폰\",\n",
    "            \"filter\": 'and(eq(\"category\", \"스마트폰\"), eq(\"year\", 2024))',  # eq: 같다(=)\n",
    "        },\n",
    "    ),\n",
    "    (\n",
    "        \"평점이 4.8점 이상인 자동차 찾아줘\",\n",
    "        {\n",
    "            \"query\": \"자동차\",\n",
    "            \"filter\": 'and(eq(\"category\", \"자동차\"), gte(\"user_rating\", 4.8))', # gte: 크거나 같다(>=)\n",
    "        },\n",
    "    ),\n",
    "    (\n",
    "        \"2023년에 나온 화장품이나 자동차는?\",\n",
    "        {\n",
    "            \"query\": \"화장품 자동차\",\n",
    "            \"filter\": 'or(and(eq(\"category\", \"화장품\"), eq(\"year\", 2023)), and(eq(\"category\", \"자동차\"), eq(\"year\", 2023)))',\n",
    "        },\n",
    "    ),\n",
    "]\n",
    "\n",
    "# load_query_constructor_runnable를 사용하여 쿼리 생성자 생성\n",
    "query_constructor = load_query_constructor_runnable(\n",
    "    llm,\n",
    "    document_content_description,\n",
    "    metadata_field_info,\n",
    "    examples=examples,\n",
    "    allowed_comparators=[\n",
    "        Comparator.EQ,\n",
    "        Comparator.GT,  # > (보다 큼)\n",
    "        Comparator.GTE, # >= (보다 크거나 같음)\n",
    "        Comparator.LT,  # < (보다 작음)\n",
    "        Comparator.LTE, # <= (보다 작거나 같음)\n",
    "    ],\n",
    "    allowed_operators=[Operator.AND, Operator.OR, Operator.NOT],\n",
    ")\n",
    "\n",
    "# QueryConstructor 인스턴스를 직접 SelfQueryRetriever에 전달\n",
    "retriever = SelfQueryRetriever(\n",
    "    query_constructor=query_constructor, vectorstore=vector_store\n",
    ")"
   ]
  },
  {
   "cell_type": "code",
   "execution_count": 7,
   "id": "690bdaa6",
   "metadata": {},
   "outputs": [
    {
     "name": "stdout",
     "output_type": "stream",
     "text": [
      "--- 사용자 쿼리: 2024년에 출시된 스마트폰에 대해 알려줘 ---\n"
     ]
    },
    {
     "name": "stderr",
     "output_type": "stream",
     "text": [
      "Failed to send telemetry event CollectionQueryEvent: capture() takes 1 positional argument but 3 were given\n"
     ]
    },
    {
     "name": "stdout",
     "output_type": "stream",
     "text": [
      "  - 문서: 가성비가 뛰어난 보급형 스마트폰입니다. 5G를 지원하며, 대용량 배터리로 하루 종일 사용이 가능합니다.\n",
      "    (메타데이터: {'category': '스마트폰', 'user_rating': 4.6, 'year': 2024})\n",
      "  - 문서: 혁신적인 듀얼 카메라 시스템을 탑재한 최신 스마트폰입니다. 초고속 프로세서로 모든 앱을 부드럽게 실행합니다.\n",
      "    (메타데이터: {'category': '스마트폰', 'user_rating': 5.0, 'year': 2024})\n",
      "\n",
      "\n",
      "--- 사용자 쿼리: 평점이 4.8점 이상인 자동차 찾아줘 ---\n",
      "  - 문서: 패밀리 SUV의 정석으로 불리는 모델입니다. 넓은 실내 공간과 최첨단 안전 기능을 탑재했습니다.\n",
      "    (메타데이터: {'category': '자동차', 'user_rating': 4.8, 'year': 2023})\n",
      "  - 문서: 제로백 3초대의 강력한 성능을 자랑하는 순수 전기차입니다. 1회 충전으로 500km 이상 주행이 가능합니다.\n",
      "    (메타데이터: {'category': '자동차', 'user_rating': 4.9, 'year': 2024})\n",
      "\n",
      "\n",
      "--- 사용자 쿼리: 공기청정기 같은 일반가전 제품에 대해 알려줘 ---\n",
      "  - 문서: 장애물 회피 기능이 뛰어난 로봇 청소기로, 한번 충전으로 넓은 공간을 깨끗하게 청소합니다.\n",
      "    (메타데이터: {'category': '일반가전', 'user_rating': 4.5, 'year': 2023})\n",
      "  - 문서: 초미세먼지를 99.9% 걸러내는 강력한 공기청정기로, 스마트 센서가 실시간으로 공기 질을 감지합니다.\n",
      "    (메타데이터: {'category': '일반가전', 'user_rating': 4.9, 'year': 2024})\n",
      "  - 문서: 8K 화질을 지원하는 초슬림 디자인의 스마트 TV입니다. AI 사운드 최적화 기술로 몰입감을 극대화합니다.\n",
      "    (메타데이터: {'category': '일반가전', 'user_rating': 4.8, 'year': 2024})\n",
      "\n",
      "\n",
      "--- 사용자 쿼리: 2023년에 나온 화장품이나 자동차는? ---\n",
      "  - 문서: 패밀리 SUV의 정석으로 불리는 모델입니다. 넓은 실내 공간과 최첨단 안전 기능을 탑재했습니다.\n",
      "    (메타데이터: {'category': '자동차', 'user_rating': 4.8, 'year': 2023})\n",
      "  - 문서: 자외선 차단 효과와 미백 기능을 동시에 갖춘 선크림입니다. 민감한 피부에도 자극 없이 순하게 작용합니다.\n",
      "    (메타데이터: {'category': '화장품', 'user_rating': 4.9, 'year': 2023})\n",
      "\n",
      "\n"
     ]
    }
   ],
   "source": [
    "# 5. 검색 및 결과 출력\n",
    "queries = [\n",
    "    \"2024년에 출시된 스마트폰에 대해 알려줘\",\n",
    "    \"평점이 4.8점 이상인 자동차 찾아줘\",\n",
    "    \"공기청정기 같은 일반가전 제품에 대해 알려줘\",\n",
    "    \"2023년에 나온 화장품이나 자동차는?\",\n",
    "]\n",
    "\n",
    "for query in queries:\n",
    "    print(f\"--- 사용자 쿼리: {query} ---\")\n",
    "    retrieved_docs = retriever.invoke(query)\n",
    "    for doc in retrieved_docs:\n",
    "        print(f\"  - 문서: {doc.page_content}\")\n",
    "        print(f\"    (메타데이터: {doc.metadata})\")\n",
    "    print(\"\\n\")"
   ]
  },
  {
   "cell_type": "code",
   "execution_count": null,
   "id": "036b0ad0",
   "metadata": {},
   "outputs": [],
   "source": []
  },
  {
   "cell_type": "code",
   "execution_count": null,
   "id": "8ea520c3",
   "metadata": {},
   "outputs": [],
   "source": []
  },
  {
   "cell_type": "code",
   "execution_count": null,
   "id": "8b41f6dc",
   "metadata": {},
   "outputs": [],
   "source": []
  }
 ],
 "metadata": {
  "kernelspec": {
   "display_name": "langchain-kr-Us6BDj1P-py3.11",
   "language": "python",
   "name": "python3"
  },
  "language_info": {
   "codemirror_mode": {
    "name": "ipython",
    "version": 3
   },
   "file_extension": ".py",
   "mimetype": "text/x-python",
   "name": "python",
   "nbconvert_exporter": "python",
   "pygments_lexer": "ipython3",
   "version": "3.11.9"
  }
 },
 "nbformat": 4,
 "nbformat_minor": 5
}
