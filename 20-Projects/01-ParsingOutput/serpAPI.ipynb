{
 "cells": [
  {
   "cell_type": "code",
   "execution_count": 11,
   "id": "f6840f52",
   "metadata": {},
   "outputs": [
    {
     "data": {
      "text/plain": [
       "True"
      ]
     },
     "execution_count": 11,
     "metadata": {},
     "output_type": "execute_result"
    }
   ],
   "source": [
    "from dotenv import load_dotenv\n",
    "import os\n",
    "\n",
    "# .env 파일에서 환경 변수를 불러옵니다.\n",
    "# OPENAI_API_KEY가 .env 파일에 설정되어 있어야 합니다.\n",
    "load_dotenv()\n",
    "#print(os.environ[\"SERPAPI_API_KEY\"])"
   ]
  },
  {
   "cell_type": "code",
   "execution_count": 12,
   "id": "06a7da92",
   "metadata": {},
   "outputs": [],
   "source": [
    "from langchain_community.utilities import SerpAPIWrapper\n",
    "\n",
    "# 구글 검색엔진, 검색 결과의 지역을 한국,언어를 한국어, 검색 결과를 3개만 반환\n",
    "params = {\"engine\": \"google\", \"gl\": \"kr\", \"hl\": \"ko\", \"num\": \"3\"}\n",
    "\n",
    "# 1. SerpAPIWrapper 인스턴스 생성\n",
    "search = SerpAPIWrapper(params=params)"
   ]
  },
  {
   "cell_type": "code",
   "execution_count": 19,
   "id": "214f4c99",
   "metadata": {},
   "outputs": [],
   "source": [
    "# 2. run 메서드를 사용하여 검색 실행\n",
    "# 검색하고 싶은 키워드를 전달합니다.\n",
    "query = \"gemma3 275M 모델에 대해 설명해줘\"\n",
    "search_result = search.run(query=query)"
   ]
  },
  {
   "cell_type": "code",
   "execution_count": 20,
   "id": "7843af08",
   "metadata": {},
   "outputs": [
    {
     "data": {
      "text/plain": [
       "\"['Gemma는 생성형 인공지능 (AI) 모델 제품군으로, 질문 답변, 요약, 추론을 비롯한 다양한 생성 작업에 사용할 수 있습니다. Gemma 모델은 개방형 가중치로 제공되며 책임 ...', 'Gemma 3 270M은 2억 7천만 개의 파라미터를 지닌 소형 AI 언어 모델로, 크기는 작지만 성능은 결코 뒤지지 않습니다. 170만 개의 임베딩 파라미터와 100만 ...', 'Gemma 3의 새로운 기능에는 이전 Gemma 모델에 비해 향상된 메모리 효율성과 더 긴 컨텍스트 처리를 위한 비전 언어 기능 및 아키텍처 변경 사항이 ...']\""
      ]
     },
     "execution_count": 20,
     "metadata": {},
     "output_type": "execute_result"
    }
   ],
   "source": [
    "search_result"
   ]
  },
  {
   "cell_type": "code",
   "execution_count": 23,
   "id": "32481dc8",
   "metadata": {},
   "outputs": [
    {
     "data": {
      "text/plain": [
       "str"
      ]
     },
     "execution_count": 23,
     "metadata": {},
     "output_type": "execute_result"
    }
   ],
   "source": [
    "type(search_result)"
   ]
  },
  {
   "cell_type": "code",
   "execution_count": 24,
   "id": "e577648a",
   "metadata": {},
   "outputs": [
    {
     "data": {
      "text/plain": [
       "10"
      ]
     },
     "execution_count": 24,
     "metadata": {},
     "output_type": "execute_result"
    }
   ],
   "source": [
    "eval('1+2+7')"
   ]
  },
  {
   "cell_type": "code",
   "execution_count": 21,
   "id": "9cf001f2",
   "metadata": {},
   "outputs": [
    {
     "data": {
      "text/plain": [
       "['Gemma는 생성형 인공지능 (AI) 모델 제품군으로, 질문 답변, 요약, 추론을 비롯한 다양한 생성 작업에 사용할 수 있습니다. Gemma 모델은 개방형 가중치로 제공되며 책임 ...',\n",
       " 'Gemma 3 270M은 2억 7천만 개의 파라미터를 지닌 소형 AI 언어 모델로, 크기는 작지만 성능은 결코 뒤지지 않습니다. 170만 개의 임베딩 파라미터와 100만 ...',\n",
       " 'Gemma 3의 새로운 기능에는 이전 Gemma 모델에 비해 향상된 메모리 효율성과 더 긴 컨텍스트 처리를 위한 비전 언어 기능 및 아키텍처 변경 사항이 ...']"
      ]
     },
     "execution_count": 21,
     "metadata": {},
     "output_type": "execute_result"
    }
   ],
   "source": [
    "# \"[...]\"의 형태로 출력된 검색 결과를 파이썬 리스트로 변환합니다.\n",
    "search_results = eval(search_result)\n",
    "search_results"
   ]
  },
  {
   "cell_type": "code",
   "execution_count": 22,
   "id": "ab7f0eda",
   "metadata": {},
   "outputs": [
    {
     "name": "stdout",
     "output_type": "stream",
     "text": [
      "'gemma3 275M 모델에 대해 설명해줘'에 대한 검색 결과:\n",
      "\n",
      "1 Gemma는 생성형 인공지능 (AI) 모델 제품군으로, 질문 답변, 요약, 추론을 비롯한 다양한 생성 작업에 사용할 수 있습니다. Gemma 모델은 개방형 가중치로 제공되며 책임 ...\n",
      "2 Gemma 3 270M은 2억 7천만 개의 파라미터를 지닌 소형 AI 언어 모델로, 크기는 작지만 성능은 결코 뒤지지 않습니다. 170만 개의 임베딩 파라미터와 100만 ...\n",
      "3 Gemma 3의 새로운 기능에는 이전 Gemma 모델에 비해 향상된 메모리 효율성과 더 긴 컨텍스트 처리를 위한 비전 언어 기능 및 아키텍처 변경 사항이 ...\n"
     ]
    }
   ],
   "source": [
    "# 3. 검색 결과 출력\n",
    "print(f\"'{query}'에 대한 검색 결과:\\n\")\n",
    "for i, result in enumerate(search_results, start=1):\n",
    "    print(i, result)"
   ]
  },
  {
   "cell_type": "code",
   "execution_count": null,
   "id": "dbf0b499",
   "metadata": {},
   "outputs": [],
   "source": []
  }
 ],
 "metadata": {
  "kernelspec": {
   "display_name": "langchain-kr-Us6BDj1P-py3.11",
   "language": "python",
   "name": "python3"
  },
  "language_info": {
   "codemirror_mode": {
    "name": "ipython",
    "version": 3
   },
   "file_extension": ".py",
   "mimetype": "text/x-python",
   "name": "python",
   "nbconvert_exporter": "python",
   "pygments_lexer": "ipython3",
   "version": "3.11.9"
  }
 },
 "nbformat": 4,
 "nbformat_minor": 5
}
